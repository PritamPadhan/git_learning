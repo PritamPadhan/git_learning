{
 "cells": [
  {
   "cell_type": "code",
   "execution_count": 1,
   "id": "7c7834b2",
   "metadata": {},
   "outputs": [],
   "source": [
    "def fibonacci(n):\n",
    "    \"\"\"Return the nth Fibonacci number.\"\"\"\n",
    "    if n <= 0:\n",
    "        return 0\n",
    "    elif n == 1:\n",
    "        return 1\n",
    "    else:\n",
    "        a, b = 0, 1\n",
    "        for _ in range(2, n + 1):\n",
    "            a, b = b, a + b\n",
    "        return b"
   ]
  },
  {
   "cell_type": "code",
   "execution_count": 2,
   "id": "79af9658",
   "metadata": {},
   "outputs": [
    {
     "name": "stdout",
     "output_type": "stream",
     "text": [
      "10th fibonacci number is 55\n"
     ]
    }
   ],
   "source": [
    "print(f\"10th fibonacci number is {fibonacci(10)}\")"
   ]
  },
  {
   "cell_type": "code",
   "execution_count": 1,
   "id": "d977fb90",
   "metadata": {},
   "outputs": [],
   "source": [
    "def is_even(n):\n",
    "    \"\"\"check a number is even or not\"\"\"\n",
    "    return n%2==0"
   ]
  },
  {
   "cell_type": "code",
   "execution_count": 2,
   "id": "8067f521",
   "metadata": {},
   "outputs": [
    {
     "name": "stdout",
     "output_type": "stream",
     "text": [
      "10 is even? True\n"
     ]
    }
   ],
   "source": [
    "n = 10\n",
    "print(f\"{n} is even? {is_even(n)}\")"
   ]
  },
  {
   "cell_type": "code",
   "execution_count": 3,
   "id": "409be08f",
   "metadata": {},
   "outputs": [
    {
     "name": "stdout",
     "output_type": "stream",
     "text": [
      "17 is even? False\n"
     ]
    }
   ],
   "source": [
    "n = 17\n",
    "print(f\"{n} is even? {is_even(n)}\")"
   ]
  },
  {
   "cell_type": "code",
   "execution_count": null,
   "id": "c7351532",
   "metadata": {},
   "outputs": [],
   "source": []
  }
 ],
 "metadata": {
  "kernelspec": {
   "display_name": "new_env (3.12.3)",
   "language": "python",
   "name": "python3"
  },
  "language_info": {
   "codemirror_mode": {
    "name": "ipython",
    "version": 3
   },
   "file_extension": ".py",
   "mimetype": "text/x-python",
   "name": "python",
   "nbconvert_exporter": "python",
   "pygments_lexer": "ipython3",
   "version": "3.11.9"
  }
 },
 "nbformat": 4,
 "nbformat_minor": 5
}
